{
  "nbformat": 4,
  "nbformat_minor": 0,
  "metadata": {
    "colab": {
      "name": "Midterm3.ipynb",
      "provenance": []
    },
    "kernelspec": {
      "name": "python3",
      "display_name": "Python 3"
    },
    "language_info": {
      "name": "python"
    },
    "accelerator": "GPU"
  },
  "cells": [
    {
      "cell_type": "markdown",
      "metadata": {
        "id": "PT4yQNH4ESxr"
      },
      "source": [
        "# Midterm 3 - Assignment 2"
      ]
    },
    {
      "cell_type": "markdown",
      "metadata": {
        "id": "tLxhfkLVBSGd"
      },
      "source": [
        "## Import all the necessary modules\n"
      ]
    },
    {
      "cell_type": "code",
      "metadata": {
        "id": "mqZVKu1x9V32"
      },
      "source": [
        "from keras.datasets import cifar10\n",
        "import keras\n",
        "from sklearn.metrics import confusion_matrix, ConfusionMatrixDisplay, plot_confusion_matrix\n",
        "import numpy as np\n",
        "import matplotlib.pyplot as plt"
      ],
      "execution_count": 8,
      "outputs": []
    },
    {
      "cell_type": "markdown",
      "metadata": {
        "id": "-8prktTyBiNS"
      },
      "source": [
        "## Load and normalize the dataset"
      ]
    },
    {
      "cell_type": "code",
      "metadata": {
        "id": "ZmGu39JEBoIU"
      },
      "source": [
        "(tr_set, tr_labels), (ts_set, ts_labels) = cifar10.load_data()\n",
        "tr_set = tr_set.astype(\"float32\") / 255\n",
        "ts_set = ts_set.astype(\"float32\") / 255\n",
        "classes = [\"airplane\", \"automobile\", \"bird\", \"cat\", \"deer\", \"dog\", \"frog\", \"horse\", \"ship\", \"truck\"]"
      ],
      "execution_count": 3,
      "outputs": []
    },
    {
      "cell_type": "markdown",
      "metadata": {
        "id": "hurMfWjUByyb"
      },
      "source": [
        "## Build the model"
      ]
    },
    {
      "cell_type": "code",
      "metadata": {
        "colab": {
          "base_uri": "https://localhost:8080/"
        },
        "id": "s7mHLSUO9Xhg",
        "outputId": "944dcdd6-19ab-4323-fd86-c13ae765a3cd"
      },
      "source": [
        "model = keras.models.Sequential()\n",
        "model.add(keras.layers.Conv2D(32, 3, padding=\"same\", activation=\"relu\", input_shape=[32, 32, 3]))\n",
        "model.add(keras.layers.Conv2D(32, 3, padding=\"same\", activation=\"relu\"))\n",
        "model.add(keras.layers.MaxPool2D(2, 2, padding=\"same\"))\n",
        "model.add(keras.layers.Conv2D(32, 3, padding=\"same\", activation=\"relu\"))\n",
        "model.add(keras.layers.Conv2D(32, 3, padding=\"same\", activation=\"relu\"))\n",
        "model.add(keras.layers.MaxPool2D(2, 2, padding=\"same\"))\n",
        "model.add(keras.layers.Flatten())\n",
        "model.add(keras.layers.Dropout(0.3))\n",
        "model.add(keras.layers.Dense(256, activation=\"relu\"))\n",
        "model.add(keras.layers.Dense(128, activation=\"relu\"))\n",
        "model.add(keras.layers.Dense(10, activation=\"softmax\"))\n",
        "model.compile(optimizer=\"adam\", loss=\"categorical_crossentropy\", metrics=[\"accuracy\"])\n",
        "model.summary()"
      ],
      "execution_count": 17,
      "outputs": [
        {
          "output_type": "stream",
          "text": [
            "Model: \"sequential_1\"\n",
            "_________________________________________________________________\n",
            "Layer (type)                 Output Shape              Param #   \n",
            "=================================================================\n",
            "conv2d_4 (Conv2D)            (None, 32, 32, 32)        896       \n",
            "_________________________________________________________________\n",
            "conv2d_5 (Conv2D)            (None, 32, 32, 32)        9248      \n",
            "_________________________________________________________________\n",
            "max_pooling2d_2 (MaxPooling2 (None, 16, 16, 32)        0         \n",
            "_________________________________________________________________\n",
            "conv2d_6 (Conv2D)            (None, 16, 16, 32)        9248      \n",
            "_________________________________________________________________\n",
            "conv2d_7 (Conv2D)            (None, 16, 16, 32)        9248      \n",
            "_________________________________________________________________\n",
            "max_pooling2d_3 (MaxPooling2 (None, 8, 8, 32)          0         \n",
            "_________________________________________________________________\n",
            "flatten_1 (Flatten)          (None, 2048)              0         \n",
            "_________________________________________________________________\n",
            "dropout_1 (Dropout)          (None, 2048)              0         \n",
            "_________________________________________________________________\n",
            "dense_2 (Dense)              (None, 256)               524544    \n",
            "_________________________________________________________________\n",
            "dense_3 (Dense)              (None, 128)               32896     \n",
            "_________________________________________________________________\n",
            "dense_4 (Dense)              (None, 10)                1290      \n",
            "=================================================================\n",
            "Total params: 587,370\n",
            "Trainable params: 587,370\n",
            "Non-trainable params: 0\n",
            "_________________________________________________________________\n"
          ],
          "name": "stdout"
        }
      ]
    },
    {
      "cell_type": "markdown",
      "metadata": {
        "id": "cBL1qMjvCByk"
      },
      "source": [
        "## Train the model"
      ]
    },
    {
      "cell_type": "code",
      "metadata": {
        "colab": {
          "base_uri": "https://localhost:8080/"
        },
        "id": "BdohR9YECGN_",
        "outputId": "32ecfbce-dd56-4823-9396-fda47eb22f31"
      },
      "source": [
        "tr_labels_one_hot = keras.utils.to_categorical(tr_labels)\n",
        "model.fit(tr_set, tr_labels_one_hot, epochs=30)"
      ],
      "execution_count": 18,
      "outputs": [
        {
          "output_type": "stream",
          "text": [
            "Epoch 1/30\n",
            "1563/1563 [==============================] - 7s 4ms/step - loss: 1.7032 - accuracy: 0.3750\n",
            "Epoch 2/30\n",
            "1563/1563 [==============================] - 7s 4ms/step - loss: 1.0680 - accuracy: 0.6180\n",
            "Epoch 3/30\n",
            "1563/1563 [==============================] - 7s 4ms/step - loss: 0.8622 - accuracy: 0.6988\n",
            "Epoch 4/30\n",
            "1563/1563 [==============================] - 7s 4ms/step - loss: 0.7431 - accuracy: 0.7412\n",
            "Epoch 5/30\n",
            "1563/1563 [==============================] - 7s 4ms/step - loss: 0.6458 - accuracy: 0.7725\n",
            "Epoch 6/30\n",
            "1563/1563 [==============================] - 7s 4ms/step - loss: 0.5733 - accuracy: 0.7977\n",
            "Epoch 7/30\n",
            "1563/1563 [==============================] - 7s 4ms/step - loss: 0.5032 - accuracy: 0.8221\n",
            "Epoch 8/30\n",
            "1563/1563 [==============================] - 7s 4ms/step - loss: 0.4596 - accuracy: 0.8382\n",
            "Epoch 9/30\n",
            "1563/1563 [==============================] - 7s 4ms/step - loss: 0.4265 - accuracy: 0.8485\n",
            "Epoch 10/30\n",
            "1563/1563 [==============================] - 7s 4ms/step - loss: 0.3813 - accuracy: 0.8630\n",
            "Epoch 11/30\n",
            "1563/1563 [==============================] - 7s 4ms/step - loss: 0.3584 - accuracy: 0.8726\n",
            "Epoch 12/30\n",
            "1563/1563 [==============================] - 7s 4ms/step - loss: 0.3298 - accuracy: 0.8831\n",
            "Epoch 13/30\n",
            "1563/1563 [==============================] - 7s 4ms/step - loss: 0.3089 - accuracy: 0.8900\n",
            "Epoch 14/30\n",
            "1563/1563 [==============================] - 7s 4ms/step - loss: 0.2834 - accuracy: 0.8985\n",
            "Epoch 15/30\n",
            "1563/1563 [==============================] - 7s 4ms/step - loss: 0.2741 - accuracy: 0.9013\n",
            "Epoch 16/30\n",
            "1563/1563 [==============================] - 7s 4ms/step - loss: 0.2595 - accuracy: 0.9066\n",
            "Epoch 17/30\n",
            "1563/1563 [==============================] - 7s 4ms/step - loss: 0.2459 - accuracy: 0.9156\n",
            "Epoch 18/30\n",
            "1563/1563 [==============================] - 7s 4ms/step - loss: 0.2305 - accuracy: 0.9211\n",
            "Epoch 19/30\n",
            "1563/1563 [==============================] - 7s 4ms/step - loss: 0.2191 - accuracy: 0.9227\n",
            "Epoch 20/30\n",
            "1563/1563 [==============================] - 7s 4ms/step - loss: 0.2091 - accuracy: 0.9264\n",
            "Epoch 21/30\n",
            "1563/1563 [==============================] - 7s 4ms/step - loss: 0.2096 - accuracy: 0.9264\n",
            "Epoch 22/30\n",
            "1563/1563 [==============================] - 7s 4ms/step - loss: 0.2009 - accuracy: 0.9292\n",
            "Epoch 23/30\n",
            "1563/1563 [==============================] - 7s 4ms/step - loss: 0.1894 - accuracy: 0.9334\n",
            "Epoch 24/30\n",
            "1563/1563 [==============================] - 7s 4ms/step - loss: 0.1885 - accuracy: 0.9336\n",
            "Epoch 25/30\n",
            "1563/1563 [==============================] - 7s 4ms/step - loss: 0.1855 - accuracy: 0.9354\n",
            "Epoch 26/30\n",
            "1563/1563 [==============================] - 7s 4ms/step - loss: 0.1860 - accuracy: 0.9358\n",
            "Epoch 27/30\n",
            "1563/1563 [==============================] - 7s 4ms/step - loss: 0.1804 - accuracy: 0.9377\n",
            "Epoch 28/30\n",
            "1563/1563 [==============================] - 7s 4ms/step - loss: 0.1726 - accuracy: 0.9405\n",
            "Epoch 29/30\n",
            "1563/1563 [==============================] - 7s 4ms/step - loss: 0.1713 - accuracy: 0.9416\n",
            "Epoch 30/30\n",
            "1563/1563 [==============================] - 7s 4ms/step - loss: 0.1687 - accuracy: 0.9424\n"
          ],
          "name": "stdout"
        },
        {
          "output_type": "execute_result",
          "data": {
            "text/plain": [
              "<tensorflow.python.keras.callbacks.History at 0x7f380343d9d0>"
            ]
          },
          "metadata": {
            "tags": []
          },
          "execution_count": 18
        }
      ]
    },
    {
      "cell_type": "markdown",
      "metadata": {
        "id": "WjJOjKSCCO2-"
      },
      "source": [
        "## Accuracy on test test"
      ]
    },
    {
      "cell_type": "code",
      "metadata": {
        "colab": {
          "base_uri": "https://localhost:8080/"
        },
        "id": "m69jAne-C8yT",
        "outputId": "3368073c-97f2-4862-c112-ddb8ac7bc198"
      },
      "source": [
        "classes_tr = np.argmax(model.predict(tr_set), axis=1)\n",
        "values = model.evaluate(tr_set, tr_labels_one_hot, verbose=0)\n",
        "print(\"Training Error: {0}, Training accuracy: {1}\".format(values[0], values[1]))"
      ],
      "execution_count": 19,
      "outputs": [
        {
          "output_type": "stream",
          "text": [
            "Training Error: 0.03217462822794914, Training accuracy: 0.9918199777603149\n"
          ],
          "name": "stdout"
        }
      ]
    },
    {
      "cell_type": "code",
      "metadata": {
        "colab": {
          "base_uri": "https://localhost:8080/",
          "height": 295
        },
        "id": "0n1PvdvZIog0",
        "outputId": "107ecd07-e680-4170-fa42-02da6f4ad49a"
      },
      "source": [
        "confusion_matrix_tr = confusion_matrix(tr_labels, classes_tr)\n",
        "ConfusionMatrixDisplay(confusion_matrix_tr, np.arange(10)).plot()\n",
        "plt.title(\"Confusion Matrix Training\")\n",
        "plt.show()"
      ],
      "execution_count": 20,
      "outputs": [
        {
          "output_type": "display_data",
          "data": {
            "image/png": "[encoded data removed]",
            "text/plain": [
              "<Figure size 432x288 with 2 Axes>"
            ]
          },
          "metadata": {
            "tags": [],
            "needs_background": "light"
          }
        }
      ]
    },
    {
      "cell_type": "markdown",
      "metadata": {
        "id": "Oe9RCFpyDF_s"
      },
      "source": [
        "## Accuracy on test set"
      ]
    },
    {
      "cell_type": "code",
      "metadata": {
        "colab": {
          "base_uri": "https://localhost:8080/"
        },
        "id": "IKzc9nl6DGdK",
        "outputId": "0b94ea4a-5b9c-428c-952f-6f1b3bef6c07"
      },
      "source": [
        "ts_labels_one_hot = keras.utils.to_categorical(ts_labels)\n",
        "classes_ts = np.argmax(model.predict(ts_set), axis=1)\n",
        "values = model.evaluate(ts_set, ts_labels_one_hot, verbose=0)\n",
        "print(\"Test Error: {0}, Test accuracy: {1}\".format(values[0], values[1]))"
      ],
      "execution_count": 21,
      "outputs": [
        {
          "output_type": "stream",
          "text": [
            "Test Error: 1.0487407445907593, Test accuracy: 0.7620000243186951\n"
          ],
          "name": "stdout"
        }
      ]
    }
  ]
}