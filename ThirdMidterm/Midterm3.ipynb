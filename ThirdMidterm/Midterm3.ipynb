{
  "nbformat": 4,
  "nbformat_minor": 0,
  "metadata": {
    "accelerator": "GPU",
    "colab": {
      "name": "Midterm3.ipynb",
      "provenance": [],
      "collapsed_sections": [],
      "toc_visible": true
    },
    "kernelspec": {
      "display_name": "Python 3",
      "name": "python3"
    },
    "language_info": {
      "name": "python"
    }
  },
  "cells": [
    {
      "cell_type": "markdown",
      "metadata": {
        "id": "PT4yQNH4ESxr"
      },
      "source": [
        "# Midterm 3 - Assignment 2"
      ]
    },
    {
      "cell_type": "markdown",
      "metadata": {
        "id": "tLxhfkLVBSGd"
      },
      "source": [
        "## Import all the necessary modules\n"
      ]
    },
    {
      "cell_type": "code",
      "metadata": {
        "id": "mqZVKu1x9V32"
      },
      "source": [
        "from keras.datasets import cifar10\n",
        "from keras.models import Sequential\n",
        "from keras.utils import np_utils\n",
        "from keras.layers import Conv2D, MaxPool2D, Flatten, Dropout, Dense, BatchNormalization\n",
        "from keras import regularizers, models\n",
        "from sklearn.metrics import confusion_matrix, ConfusionMatrixDisplay, plot_confusion_matrix\n",
        "import numpy as np\n",
        "import matplotlib.pyplot as plt\n",
        "# from main import build_model, run_model, adversary_pattern, attack_pattern, adversary_pattern, add_noise_set"
      ],
      "execution_count": null,
      "outputs": []
    },
    {
      "cell_type": "markdown",
      "metadata": {
        "id": "-8prktTyBiNS"
      },
      "source": [
        "## Load and normalize the dataset"
      ]
    },
    {
      "cell_type": "code",
      "metadata": {
        "id": "ZmGu39JEBoIU"
      },
      "source": [
        "(tr_set, tr_labels), (ts_set, ts_labels) = cifar10.load_data()\n",
        "tr_set = tr_set.astype(\"float32\") / 255\n",
        "ts_set = ts_set.astype(\"float32\") / 255\n",
        "classes = [\"airplane\", \"automobile\", \"bird\", \"cat\", \"deer\", \"dog\", \"frog\", \"horse\", \"ship\", \"truck\"]\n",
        "tr_labels_one_hot = np_utils.to_categorical(tr_labels)\n",
        "ts_labels_one_hot = np_utils.to_categorical(ts_labels)"
      ],
      "execution_count": null,
      "outputs": []
    },
    {
      "cell_type": "markdown",
      "metadata": {
        "id": "hurMfWjUByyb"
      },
      "source": [
        "## Build the model"
      ]
    },
    {
      "cell_type": "code",
      "metadata": {
        "id": "s7mHLSUO9Xhg",
        "colab": {
          "base_uri": "https://localhost:8080/"
        },
        "outputId": "614f8d1d-04ec-4a9d-e578-7c8cbd0fc28e"
      },
      "source": [
        "weight_decay = 1e-4\n",
        "model = Sequential()\n",
        "model.add(Conv2D(32, (3, 3), padding='same', activation=\"relu\", kernel_regularizer=regularizers.l2(weight_decay), input_shape=(32, 32, 3)))\n",
        "model.add(BatchNormalization())\n",
        "model.add(Conv2D(32, (3, 3), padding='same', activation=\"relu\", kernel_regularizer=regularizers.l2(weight_decay)))\n",
        "model.add(BatchNormalization())\n",
        "model.add(MaxPool2D((2, 2), 2))\n",
        "model.add(Dropout(0.3))\n",
        "\n",
        "model.add(Conv2D(64, (3, 3), padding='same', activation=\"relu\", kernel_regularizer=regularizers.l2(weight_decay)))\n",
        "model.add(BatchNormalization())\n",
        "model.add(Conv2D(64, (3, 3), padding='same', activation=\"relu\", kernel_regularizer=regularizers.l2(weight_decay)))\n",
        "model.add(BatchNormalization())\n",
        "model.add(MaxPool2D((2, 2), 2))\n",
        "model.add(Dropout(0.3))\n",
        "\n",
        "model.add(Conv2D(128, (3, 3), padding='same',  activation=\"relu\", kernel_regularizer=regularizers.l2(weight_decay)))\n",
        "model.add(BatchNormalization())\n",
        "model.add(Conv2D(128, (3, 3), padding='same',  activation=\"relu\", kernel_regularizer=regularizers.l2(weight_decay)))\n",
        "model.add(BatchNormalization())\n",
        "model.add(MaxPool2D((2, 2), 2))\n",
        "model.add(Dropout(0.3))\n",
        "    \n",
        "model.add(Flatten())\n",
        "model.add(Dense(10, activation='softmax'))\n",
        "\n",
        "model.compile(optimizer=\"adam\", loss=\"categorical_crossentropy\", metrics=[\"accuracy\"])\n",
        "model.summary()"
      ],
      "execution_count": null,
      "outputs": [
        {
          "output_type": "stream",
          "text": [
            "Model: \"sequential\"\n",
            "_________________________________________________________________\n",
            "Layer (type)                 Output Shape              Param #   \n",
            "=================================================================\n",
            "conv2d (Conv2D)              (None, 32, 32, 32)        896       \n",
            "_________________________________________________________________\n",
            "batch_normalization (BatchNo (None, 32, 32, 32)        128       \n",
            "_________________________________________________________________\n",
            "conv2d_1 (Conv2D)            (None, 32, 32, 32)        9248      \n",
            "_________________________________________________________________\n",
            "batch_normalization_1 (Batch (None, 32, 32, 32)        128       \n",
            "_________________________________________________________________\n",
            "max_pooling2d (MaxPooling2D) (None, 16, 16, 32)        0         \n",
            "_________________________________________________________________\n",
            "dropout (Dropout)            (None, 16, 16, 32)        0         \n",
            "_________________________________________________________________\n",
            "conv2d_2 (Conv2D)            (None, 16, 16, 64)        18496     \n",
            "_________________________________________________________________\n",
            "batch_normalization_2 (Batch (None, 16, 16, 64)        256       \n",
            "_________________________________________________________________\n",
            "conv2d_3 (Conv2D)            (None, 16, 16, 64)        36928     \n",
            "_________________________________________________________________\n",
            "batch_normalization_3 (Batch (None, 16, 16, 64)        256       \n",
            "_________________________________________________________________\n",
            "max_pooling2d_1 (MaxPooling2 (None, 8, 8, 64)          0         \n",
            "_________________________________________________________________\n",
            "dropout_1 (Dropout)          (None, 8, 8, 64)          0         \n",
            "_________________________________________________________________\n",
            "conv2d_4 (Conv2D)            (None, 8, 8, 128)         73856     \n",
            "_________________________________________________________________\n",
            "batch_normalization_4 (Batch (None, 8, 8, 128)         512       \n",
            "_________________________________________________________________\n",
            "conv2d_5 (Conv2D)            (None, 8, 8, 128)         147584    \n",
            "_________________________________________________________________\n",
            "batch_normalization_5 (Batch (None, 8, 8, 128)         512       \n",
            "_________________________________________________________________\n",
            "max_pooling2d_2 (MaxPooling2 (None, 4, 4, 128)         0         \n",
            "_________________________________________________________________\n",
            "dropout_2 (Dropout)          (None, 4, 4, 128)         0         \n",
            "_________________________________________________________________\n",
            "flatten (Flatten)            (None, 2048)              0         \n",
            "_________________________________________________________________\n",
            "dense (Dense)                (None, 10)                20490     \n",
            "=================================================================\n",
            "Total params: 309,290\n",
            "Trainable params: 308,394\n",
            "Non-trainable params: 896\n",
            "_________________________________________________________________\n"
          ],
          "name": "stdout"
        }
      ]
    },
    {
      "cell_type": "markdown",
      "metadata": {
        "id": "cBL1qMjvCByk"
      },
      "source": [
        "## Train the model"
      ]
    },
    {
      "cell_type": "code",
      "metadata": {
        "colab": {
          "base_uri": "https://localhost:8080/"
        },
        "id": "BdohR9YECGN_",
        "outputId": "f283e63c-3464-4399-f4ee-96788423f068"
      },
      "source": [
        "model.fit(tr_set, tr_labels_one_hot, batch_size=64, validation_data=(ts_set, ts_labels_one_hot), epochs=50, verbose=2)\n",
        "# model = models.load_model(\"cifar_classifier.h5\")\n",
        "# model.summary()"
      ],
      "execution_count": null,
      "outputs": [
        {
          "output_type": "stream",
          "text": [
            "Epoch 1/50\n",
            "782/782 - 25s - loss: 1.7610 - accuracy: 0.4478 - val_loss: 1.2579 - val_accuracy: 0.5904\n",
            "Epoch 2/50\n",
            "782/782 - 6s - loss: 1.1563 - accuracy: 0.6211 - val_loss: 1.1554 - val_accuracy: 0.6259\n",
            "Epoch 3/50\n",
            "782/782 - 6s - loss: 0.9227 - accuracy: 0.6998 - val_loss: 0.9925 - val_accuracy: 0.6896\n",
            "Epoch 4/50\n",
            "782/782 - 6s - loss: 0.8113 - accuracy: 0.7410 - val_loss: 0.7646 - val_accuracy: 0.7539\n",
            "Epoch 5/50\n",
            "782/782 - 6s - loss: 0.7368 - accuracy: 0.7682 - val_loss: 0.7162 - val_accuracy: 0.7801\n",
            "Epoch 6/50\n",
            "782/782 - 6s - loss: 0.6900 - accuracy: 0.7901 - val_loss: 0.7689 - val_accuracy: 0.7670\n",
            "Epoch 7/50\n",
            "782/782 - 6s - loss: 0.6499 - accuracy: 0.8040 - val_loss: 0.7984 - val_accuracy: 0.7702\n",
            "Epoch 8/50\n",
            "782/782 - 6s - loss: 0.6199 - accuracy: 0.8179 - val_loss: 0.6754 - val_accuracy: 0.8044\n",
            "Epoch 9/50\n",
            "782/782 - 6s - loss: 0.6013 - accuracy: 0.8265 - val_loss: 0.6829 - val_accuracy: 0.8087\n",
            "Epoch 10/50\n",
            "782/782 - 6s - loss: 0.5851 - accuracy: 0.8348 - val_loss: 0.6822 - val_accuracy: 0.8161\n",
            "Epoch 11/50\n",
            "782/782 - 6s - loss: 0.5616 - accuracy: 0.8471 - val_loss: 0.6594 - val_accuracy: 0.8178\n",
            "Epoch 12/50\n",
            "782/782 - 6s - loss: 0.5528 - accuracy: 0.8534 - val_loss: 0.7686 - val_accuracy: 0.7938\n",
            "Epoch 13/50\n",
            "782/782 - 6s - loss: 0.5458 - accuracy: 0.8572 - val_loss: 0.6810 - val_accuracy: 0.8303\n",
            "Epoch 14/50\n",
            "782/782 - 6s - loss: 0.5311 - accuracy: 0.8637 - val_loss: 0.6839 - val_accuracy: 0.8252\n",
            "Epoch 15/50\n",
            "782/782 - 6s - loss: 0.5236 - accuracy: 0.8681 - val_loss: 0.6894 - val_accuracy: 0.8263\n",
            "Epoch 16/50\n",
            "782/782 - 6s - loss: 0.5183 - accuracy: 0.8726 - val_loss: 0.6928 - val_accuracy: 0.8297\n",
            "Epoch 17/50\n",
            "782/782 - 6s - loss: 0.5074 - accuracy: 0.8784 - val_loss: 0.7146 - val_accuracy: 0.8219\n",
            "Epoch 18/50\n",
            "782/782 - 6s - loss: 0.5077 - accuracy: 0.8795 - val_loss: 0.6544 - val_accuracy: 0.8383\n",
            "Epoch 19/50\n",
            "782/782 - 6s - loss: 0.5003 - accuracy: 0.8821 - val_loss: 0.7192 - val_accuracy: 0.8281\n",
            "Epoch 20/50\n",
            "782/782 - 6s - loss: 0.4957 - accuracy: 0.8866 - val_loss: 0.6835 - val_accuracy: 0.8384\n",
            "Epoch 21/50\n",
            "782/782 - 6s - loss: 0.4911 - accuracy: 0.8876 - val_loss: 0.6932 - val_accuracy: 0.8411\n",
            "Epoch 22/50\n",
            "782/782 - 6s - loss: 0.4937 - accuracy: 0.8890 - val_loss: 0.6998 - val_accuracy: 0.8381\n",
            "Epoch 23/50\n",
            "782/782 - 6s - loss: 0.4846 - accuracy: 0.8948 - val_loss: 0.7053 - val_accuracy: 0.8415\n",
            "Epoch 24/50\n",
            "782/782 - 6s - loss: 0.4790 - accuracy: 0.8960 - val_loss: 0.7048 - val_accuracy: 0.8379\n",
            "Epoch 25/50\n",
            "782/782 - 6s - loss: 0.4788 - accuracy: 0.8969 - val_loss: 0.6794 - val_accuracy: 0.8502\n",
            "Epoch 26/50\n",
            "782/782 - 6s - loss: 0.4773 - accuracy: 0.8964 - val_loss: 0.7059 - val_accuracy: 0.8431\n",
            "Epoch 27/50\n",
            "782/782 - 6s - loss: 0.4805 - accuracy: 0.8981 - val_loss: 0.6699 - val_accuracy: 0.8504\n",
            "Epoch 28/50\n",
            "782/782 - 6s - loss: 0.4733 - accuracy: 0.9006 - val_loss: 0.7026 - val_accuracy: 0.8422\n",
            "Epoch 29/50\n",
            "782/782 - 6s - loss: 0.4703 - accuracy: 0.9030 - val_loss: 0.6850 - val_accuracy: 0.8498\n",
            "Epoch 30/50\n",
            "782/782 - 6s - loss: 0.4620 - accuracy: 0.9060 - val_loss: 0.7660 - val_accuracy: 0.8281\n",
            "Epoch 31/50\n",
            "782/782 - 6s - loss: 0.4655 - accuracy: 0.9053 - val_loss: 0.6924 - val_accuracy: 0.8498\n",
            "Epoch 32/50\n",
            "782/782 - 6s - loss: 0.4638 - accuracy: 0.9053 - val_loss: 0.6820 - val_accuracy: 0.8476\n",
            "Epoch 33/50\n",
            "782/782 - 6s - loss: 0.4589 - accuracy: 0.9075 - val_loss: 0.7007 - val_accuracy: 0.8503\n",
            "Epoch 34/50\n",
            "782/782 - 6s - loss: 0.4574 - accuracy: 0.9094 - val_loss: 0.6817 - val_accuracy: 0.8513\n",
            "Epoch 35/50\n",
            "782/782 - 6s - loss: 0.4600 - accuracy: 0.9079 - val_loss: 0.6849 - val_accuracy: 0.8506\n",
            "Epoch 36/50\n",
            "782/782 - 6s - loss: 0.4573 - accuracy: 0.9099 - val_loss: 0.6959 - val_accuracy: 0.8478\n",
            "Epoch 37/50\n",
            "782/782 - 6s - loss: 0.4522 - accuracy: 0.9133 - val_loss: 0.6754 - val_accuracy: 0.8551\n",
            "Epoch 38/50\n",
            "782/782 - 6s - loss: 0.4569 - accuracy: 0.9108 - val_loss: 0.6862 - val_accuracy: 0.8515\n",
            "Epoch 39/50\n",
            "782/782 - 6s - loss: 0.4532 - accuracy: 0.9114 - val_loss: 0.7129 - val_accuracy: 0.8459\n",
            "Epoch 40/50\n",
            "782/782 - 6s - loss: 0.4485 - accuracy: 0.9141 - val_loss: 0.7315 - val_accuracy: 0.8488\n",
            "Epoch 41/50\n",
            "782/782 - 6s - loss: 0.4534 - accuracy: 0.9127 - val_loss: 0.7005 - val_accuracy: 0.8515\n",
            "Epoch 42/50\n",
            "782/782 - 6s - loss: 0.4487 - accuracy: 0.9145 - val_loss: 0.7422 - val_accuracy: 0.8437\n",
            "Epoch 43/50\n",
            "782/782 - 6s - loss: 0.4462 - accuracy: 0.9158 - val_loss: 0.6828 - val_accuracy: 0.8550\n",
            "Epoch 44/50\n",
            "782/782 - 6s - loss: 0.4498 - accuracy: 0.9138 - val_loss: 0.7558 - val_accuracy: 0.8369\n",
            "Epoch 45/50\n",
            "782/782 - 6s - loss: 0.4452 - accuracy: 0.9170 - val_loss: 0.7346 - val_accuracy: 0.8444\n",
            "Epoch 46/50\n",
            "782/782 - 6s - loss: 0.4477 - accuracy: 0.9163 - val_loss: 0.7740 - val_accuracy: 0.8369\n",
            "Epoch 47/50\n",
            "782/782 - 6s - loss: 0.4467 - accuracy: 0.9160 - val_loss: 0.7086 - val_accuracy: 0.8545\n",
            "Epoch 48/50\n",
            "782/782 - 6s - loss: 0.4415 - accuracy: 0.9180 - val_loss: 0.7129 - val_accuracy: 0.8498\n",
            "Epoch 49/50\n",
            "782/782 - 6s - loss: 0.4455 - accuracy: 0.9168 - val_loss: 0.7441 - val_accuracy: 0.8398\n",
            "Epoch 50/50\n",
            "782/782 - 6s - loss: 0.4436 - accuracy: 0.9173 - val_loss: 0.6949 - val_accuracy: 0.8527\n"
          ],
          "name": "stdout"
        },
        {
          "output_type": "execute_result",
          "data": {
            "text/plain": [
              "<keras.callbacks.History at 0x7fcab023bbd0>"
            ]
          },
          "metadata": {
            "tags": []
          },
          "execution_count": 4
        }
      ]
    },
    {
      "cell_type": "markdown",
      "metadata": {
        "id": "WjJOjKSCCO2-"
      },
      "source": [
        "## Accuracy on training set"
      ]
    },
    {
      "cell_type": "code",
      "metadata": {
        "colab": {
          "base_uri": "https://localhost:8080/"
        },
        "id": "m69jAne-C8yT",
        "outputId": "49d75e4f-ec08-4862-e088-acd46260a3f7"
      },
      "source": [
        "classes_tr = np.argmax(model.predict(tr_set), axis=1)\n",
        "values = model.evaluate(tr_set, tr_labels_one_hot, verbose=0)\n",
        "print(\"Training Error: {0}, Training accuracy: {1}\".format(values[0], values[1]))"
      ],
      "execution_count": null,
      "outputs": [
        {
          "output_type": "stream",
          "text": [
            "Training Error: 0.29373547434806824, Training accuracy: 0.9769999980926514\n"
          ],
          "name": "stdout"
        }
      ]
    },
    {
      "cell_type": "code",
      "metadata": {
        "colab": {
          "base_uri": "https://localhost:8080/",
          "height": 295
        },
        "id": "0n1PvdvZIog0",
        "outputId": "98c40767-a9cb-48fb-bd56-794a42ba60ef"
      },
      "source": [
        "confusion_matrix_tr = confusion_matrix(tr_labels, classes_tr)\n",
        "ConfusionMatrixDisplay(confusion_matrix_tr, np.arange(10)).plot()\n",
        "plt.title(\"Confusion Matrix Training\")\n",
        "plt.show()"
      ],
      "execution_count": null,
      "outputs": [
        {
          "output_type": "display_data",
          "data": {
            "image/png": "[encoded data removed]",
            "text/plain": [
              "<Figure size 432x288 with 2 Axes>"
            ]
          },
          "metadata": {
            "tags": [],
            "needs_background": "light"
          }
        }
      ]
    },
    {
      "cell_type": "markdown",
      "metadata": {
        "id": "Oe9RCFpyDF_s"
      },
      "source": [
        "## Accuracy on test set"
      ]
    },
    {
      "cell_type": "code",
      "metadata": {
        "colab": {
          "base_uri": "https://localhost:8080/"
        },
        "id": "IKzc9nl6DGdK",
        "outputId": "7aa4fa56-3699-47b0-fa94-e3bc5102cde5"
      },
      "source": [
        "classes_ts = np.argmax(model.predict(ts_set), axis=1)\n",
        "values = model.evaluate(ts_set, ts_labels_one_hot, verbose=0)\n",
        "print(\"Test Error: {0}, Test accuracy: {1}\".format(values[0], values[1]))"
      ],
      "execution_count": null,
      "outputs": [
        {
          "output_type": "stream",
          "text": [
            "Test Error: 0.6948650479316711, Test accuracy: 0.8526999950408936\n"
          ],
          "name": "stdout"
        }
      ]
    },
    {
      "cell_type": "code",
      "metadata": {
        "colab": {
          "base_uri": "https://localhost:8080/",
          "height": 295
        },
        "id": "ef2rBsJAbK1h",
        "outputId": "7cdf2104-5d99-4c94-9c39-4411ab073f17"
      },
      "source": [
        "confusion_matrix_ts = confusion_matrix(ts_labels, classes_ts)\n",
        "ConfusionMatrixDisplay(confusion_matrix_ts, np.arange(10)).plot()\n",
        "plt.rcParams[\"figure.figsize\"] = 5.9, 5.9\n",
        "plt.title(\"Confusion Matrix Test\")\n",
        "plt.show()"
      ],
      "execution_count": null,
      "outputs": [
        {
          "output_type": "display_data",
          "data": {
            "image/png": "[encoded data removed]",
            "text/plain": [
              "<Figure size 432x288 with 2 Axes>"
            ]
          },
          "metadata": {
            "tags": [],
            "needs_background": "light"
          }
        }
      ]
    }
  ]
}